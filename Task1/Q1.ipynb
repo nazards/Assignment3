{
 "cells": [
  {
   "cell_type": "code",
   "execution_count": 1,
   "metadata": {},
   "outputs": [],
   "source": [
    "#Write a function to compute 5/0 and use try/except to catch the exceptions."
   ]
  },
  {
   "cell_type": "code",
   "execution_count": 2,
   "metadata": {},
   "outputs": [],
   "source": [
    "def apply_division(dividend, divisor):\n",
    "    quotient = 0\n",
    "    try:\n",
    "        quotient = dividend / divisor\n",
    "    except ZeroDivisionError:\n",
    "        print ('Zero Division Error::Divisor {} is not applicable'.format(divisor))\n",
    "    return quotient"
   ]
  },
  {
   "cell_type": "code",
   "execution_count": 3,
   "metadata": {},
   "outputs": [
    {
     "name": "stdout",
     "output_type": "stream",
     "text": [
      "Zero Division Error::Divisor 0 is not applicable\n"
     ]
    },
    {
     "data": {
      "text/plain": [
       "0"
      ]
     },
     "execution_count": 3,
     "metadata": {},
     "output_type": "execute_result"
    }
   ],
   "source": [
    "apply_division(5,0)"
   ]
  },
  {
   "cell_type": "code",
   "execution_count": null,
   "metadata": {},
   "outputs": [],
   "source": [
    "def apply_division(dividend, divisor):\n",
    "    quotient = 0\n",
    "    try:\n",
    "        quotient = dividend / divisor\n",
    "    except ZeroDivisionError:\n",
    "        print ('Zero Division Error::Divisor {} is not applicable'.format(divisor))\n",
    "    return quotient"
   ]
  }
 ],
 "metadata": {
  "kernelspec": {
   "display_name": "Python 3",
   "language": "python",
   "name": "python3"
  },
  "language_info": {
   "codemirror_mode": {
    "name": "ipython",
    "version": 3
   },
   "file_extension": ".py",
   "mimetype": "text/x-python",
   "name": "python",
   "nbconvert_exporter": "python",
   "pygments_lexer": "ipython3",
   "version": "3.7.0"
  }
 },
 "nbformat": 4,
 "nbformat_minor": 2
}
